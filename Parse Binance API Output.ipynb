{
 "cells": [
  {
   "cell_type": "code",
   "execution_count": 1,
   "metadata": {},
   "outputs": [],
   "source": [
    "import pandas as pd\n",
    "import datetime as dt"
   ]
  },
  {
   "cell_type": "code",
   "execution_count": 2,
   "metadata": {},
   "outputs": [],
   "source": [
    "# !pip install pandas"
   ]
  },
  {
   "cell_type": "code",
   "execution_count": 3,
   "metadata": {},
   "outputs": [
    {
     "ename": "ModuleNotFoundError",
     "evalue": "No module named 'binance.client'; 'binance' is not a package",
     "output_type": "error",
     "traceback": [
      "\u001b[0;31m---------------------------------------------------------------------------\u001b[0m",
      "\u001b[0;31mModuleNotFoundError\u001b[0m                       Traceback (most recent call last)",
      "\u001b[0;32m/var/folders/qd/dy__vrxx5ws5khw1yz5bqq480000gn/T/ipykernel_75471/4112373454.py\u001b[0m in \u001b[0;36m<module>\u001b[0;34m\u001b[0m\n\u001b[1;32m      2\u001b[0m \u001b[0mapi_secret\u001b[0m \u001b[0;34m=\u001b[0m \u001b[0;34m'sLUzuD1NESEzyTOoR07vE95GbjJwKM4KiJsmOhZHg7Ls2Pfahr9bZoMHNwDer8fY'\u001b[0m\u001b[0;34m\u001b[0m\u001b[0;34m\u001b[0m\u001b[0m\n\u001b[1;32m      3\u001b[0m \u001b[0;34m\u001b[0m\u001b[0m\n\u001b[0;32m----> 4\u001b[0;31m \u001b[0;32mfrom\u001b[0m \u001b[0mbinance\u001b[0m\u001b[0;34m.\u001b[0m\u001b[0mclient\u001b[0m \u001b[0;32mimport\u001b[0m \u001b[0mClient\u001b[0m\u001b[0;34m\u001b[0m\u001b[0;34m\u001b[0m\u001b[0m\n\u001b[0m\u001b[1;32m      5\u001b[0m \u001b[0mclient\u001b[0m \u001b[0;34m=\u001b[0m \u001b[0mClient\u001b[0m\u001b[0;34m(\u001b[0m\u001b[0mapi_key\u001b[0m\u001b[0;34m,\u001b[0m \u001b[0mapi_secret\u001b[0m\u001b[0;34m)\u001b[0m\u001b[0;34m\u001b[0m\u001b[0;34m\u001b[0m\u001b[0m\n",
      "\u001b[0;31mModuleNotFoundError\u001b[0m: No module named 'binance.client'; 'binance' is not a package"
     ]
    }
   ],
   "source": [
    "api_key = 'wps4QMtjIW0GhKjA13XpwYkz3tpjJO5pqj8MqlY1TpLElKUhMJL7cvupiuQEk2hX'\n",
    "api_secret = 'sLUzuD1NESEzyTOoR07vE95GbjJwKM4KiJsmOhZHg7Ls2Pfahr9bZoMHNwDer8fY'\n",
    "\n",
    "from binance.client import Client\n",
    "client = Client(api_key, api_secret)\n"
   ]
  },
  {
   "cell_type": "code",
   "execution_count": null,
   "metadata": {},
   "outputs": [],
   "source": [
    "DATETIME = dt.datetime.now()\n",
    "START_DATE = dt.datetime.strptime('2021-09-12', '%Y-%m-%d')"
   ]
  },
  {
   "cell_type": "code",
   "execution_count": null,
   "metadata": {},
   "outputs": [],
   "source": [
    "pairs = [\n",
    "    'BTCBRL',\n",
    "    'ETHBRL',\n",
    "    'ADABRL',\n",
    "    'BNBBRL',\n",
    "    'ADAUSDT',\n",
    "    'BTTUSDT',\n",
    "    'SHIBUSDT',\n",
    "    'BNBETH',\n",
    "]"
   ]
  },
  {
   "cell_type": "code",
   "execution_count": null,
   "metadata": {},
   "outputs": [],
   "source": [
    "trades = []\n",
    "\n",
    "for p in pairs:\n",
    "#     print(p)\n",
    "    t = client.get_my_trades(symbol=p)\n",
    "    if t:\n",
    "        trades.extend(t)\n",
    "\n",
    "# trades"
   ]
  },
  {
   "cell_type": "code",
   "execution_count": null,
   "metadata": {},
   "outputs": [],
   "source": [
    "from datetime import datetime\n",
    "\n",
    "def convert_unix_ts(ts):\n",
    "    \n",
    "    if type(ts) != int:\n",
    "        ts = int(ts)\n",
    "        \n",
    "    try:\n",
    "        new_ts = datetime.utcfromtimestamp(ts).strftime('%Y-%m-%d %H:%M:%S')\n",
    "    except ValueError:\n",
    "        new_ts = datetime.utcfromtimestamp(ts/1000).strftime('%Y-%m-%d %H:%M:%S')\n",
    "    return new_ts\n",
    "convert_unix_ts(1623266016648)"
   ]
  },
  {
   "cell_type": "code",
   "execution_count": null,
   "metadata": {},
   "outputs": [],
   "source": []
  },
  {
   "cell_type": "code",
   "execution_count": null,
   "metadata": {},
   "outputs": [],
   "source": [
    "columns = [\n",
    "    'Date', \n",
    "    'Type', \n",
    "    'Buy',\n",
    "    'Currency (Buy)',\n",
    "    'Fiat value (Buy)',\n",
    "    'Sell',\n",
    "    'Currency (Sell)',\n",
    "    'Fiat value (Sell)',\n",
    "    'Fee',\n",
    "    'Currency (Fee)',\n",
    "    'Fiat value (Fee)',\n",
    "    'Exchange',\n",
    "    'Wallet',\n",
    "    'Account',\n",
    "    'Transfer-Code',\n",
    "    'Comment'\n",
    "]"
   ]
  },
  {
   "cell_type": "code",
   "execution_count": null,
   "metadata": {},
   "outputs": [],
   "source": [
    "df_trades = pd.DataFrame(trades)\n",
    "df_trades[\"Date\"] = df_trades['time'].map(convert_unix_ts)\n",
    "df_trades.head()"
   ]
  },
  {
   "cell_type": "code",
   "execution_count": null,
   "metadata": {},
   "outputs": [],
   "source": [
    "df_trades[\n",
    "    pd.to_datetime(df_trades['Date']) >= START_DATE\n",
    "]"
   ]
  },
  {
   "cell_type": "code",
   "execution_count": null,
   "metadata": {},
   "outputs": [],
   "source": [
    "trades"
   ]
  },
  {
   "cell_type": "code",
   "execution_count": null,
   "metadata": {},
   "outputs": [],
   "source": [
    "for c in columns:\n",
    "    \n",
    "    df_trades[c] = \"\"\n",
    "    \n",
    "df_trades[\"Type\"] = \"Trade\"\n"
   ]
  },
  {
   "cell_type": "code",
   "execution_count": null,
   "metadata": {},
   "outputs": [],
   "source": [
    "for i, row in df_trades.iterrows():\n",
    "    \n",
    "    buy_currency = row['symbol'][:3]\n",
    "    sell_currency = row['symbol'][3:]\n",
    "    \n",
    "    print(buy_currency, sell_currency)\n",
    "    \n",
    "    if row['isBuyer']:\n",
    "        \n",
    "        df_trades.at[i, 'Buy'] = row['qty']        \n",
    "        df_trades.at[i, 'Currency (Buy)'] = buy_currency\n",
    "\n",
    "        df_trades.at[i, 'Sell'] = row['quoteQty']\n",
    "        df_trades.at[i, 'Currency (Sell)'] = sell_currency\n",
    "        \n",
    "    else:\n",
    "\n",
    "        df_trades.at[i, 'Sell'] = row['qty']        \n",
    "        df_trades.at[i, 'Currency (Sell)'] = buy_currency\n",
    "\n",
    "        df_trades.at[i, 'Buy'] = row['quoteQty']\n",
    "        df_trades.at[i, 'Currency (Buy)'] = sell_currency\n",
    "\n",
    "    \n",
    "    df_trades.at[i, 'Currency (Fee)'] = row['commissionAsset']\n",
    "    df_trades.at[i, 'Fee'] = row['commission']\n",
    "    \n",
    "    "
   ]
  },
  {
   "cell_type": "code",
   "execution_count": null,
   "metadata": {},
   "outputs": [],
   "source": [
    "df_trades.head()"
   ]
  },
  {
   "cell_type": "code",
   "execution_count": null,
   "metadata": {},
   "outputs": [],
   "source": []
  },
  {
   "cell_type": "code",
   "execution_count": null,
   "metadata": {},
   "outputs": [],
   "source": [
    "withdraws = client.get_withdraw_history()\n",
    "withdraws"
   ]
  },
  {
   "cell_type": "code",
   "execution_count": null,
   "metadata": {},
   "outputs": [],
   "source": [
    "df_withdraws = pd.DataFrame(withdraws)\n",
    "\n",
    "for c in columns:\n",
    "    \n",
    "    df_withdraws[c] = \"\"\n",
    "    \n",
    "df_withdraws[\"Type\"] = \"Withdraw\"\n",
    "# df_withdraws[\"Date\"] = df_withdraws['time'].map(convert_unix_ts)"
   ]
  },
  {
   "cell_type": "code",
   "execution_count": null,
   "metadata": {},
   "outputs": [],
   "source": [
    "for i, row in df_withdraws.iterrows():\n",
    "    \n",
    "#     buy_currency = row['symbol'][:3]\n",
    "    sell_currency = row['coin']\n",
    "    \n",
    "#     print(buy_currency, sell_currency)\n",
    "    \n",
    "    \n",
    "#     df_trades.at[i, 'Currency (Buy)'] = buy_currency\n",
    "#     df_trades.at[i, 'Buy'] = row['quoteQty']\n",
    "    df_withdraws.at[i, 'Sell'] = row['amount']\n",
    "    \n",
    "    df_withdraws.at[i, 'Currency (Sell)'] = sell_currency\n",
    "    \n",
    "    df_withdraws.at[i, 'Currency (Fee)'] = sell_currency\n",
    "    df_withdraws.at[i, 'Fee'] = row['transactionFee']\n",
    "    df_withdraws.at[i, 'Transfer-Code'] = row['txId']\n",
    "    df_withdraws.at[i, 'Date'] = row['applyTime']\n",
    "    \n",
    "df_withdraws"
   ]
  },
  {
   "cell_type": "code",
   "execution_count": null,
   "metadata": {},
   "outputs": [],
   "source": [
    "deposits = client.get_deposit_history()\n",
    "deposits\n",
    "\n",
    "df_deposits = pd.DataFrame(deposits)\n",
    "\n",
    "for c in columns:\n",
    "    \n",
    "    df_deposits[c] = \"\"\n",
    "    \n",
    "df_deposits[\"Type\"] = \"Deposit\"\n"
   ]
  },
  {
   "cell_type": "code",
   "execution_count": null,
   "metadata": {},
   "outputs": [],
   "source": [
    "for i, row in df_deposits.iterrows():\n",
    "    \n",
    "#     buy_currency = row['symbol'][:3]\n",
    "    buy_currency = row['coin']\n",
    "    \n",
    "#     print(buy_currency, sell_currency)\n",
    "    \n",
    "    \n",
    "    df_deposits.at[i, 'Currency (Buy)'] = buy_currency\n",
    "    df_deposits.at[i, 'Buy'] = row['amount']\n",
    "#     df_deposits.at[i, 'Sell'] = row['amount']\n",
    "    \n",
    "#     df_deposits.at[i, 'Currency (Sell)'] = sell_currency\n",
    "    \n",
    "#     df_deposits.at[i, 'Currency (Fee)'] = buy_currency\n",
    "#     df_deposits.at[i, 'Fee'] = row['transactionFee']\n",
    "    df_deposits.at[i, 'Transfer-Code'] = row['txId']\n",
    "#     df_deposits.at[i, 'Date'] = row['applyTime']\n",
    "df_deposits['Date'] = df_deposits['insertTime'].map(convert_unix_ts)\n",
    "df_deposits"
   ]
  },
  {
   "cell_type": "code",
   "execution_count": null,
   "metadata": {},
   "outputs": [],
   "source": [
    "df_final = pd.concat([df_trades, df_deposits, df_withdraws])[columns]\n",
    "df_final['Comment'] = 'Parsed via Binance API script at %s' % DATETIME\n",
    "df_final.head()"
   ]
  },
  {
   "cell_type": "code",
   "execution_count": null,
   "metadata": {},
   "outputs": [],
   "source": [
    "df_final.to_clipboard(index=False, header=False)\n",
    "print('Data copied to clipboard')"
   ]
  },
  {
   "cell_type": "code",
   "execution_count": null,
   "metadata": {},
   "outputs": [],
   "source": [
    "# client.get_deposit_history(coin='BRL')\n"
   ]
  },
  {
   "cell_type": "code",
   "execution_count": null,
   "metadata": {},
   "outputs": [],
   "source": [
    "1 Rent vs owning the house\n",
    "2 Appreciation\n",
    "3 How much crypto would increase in the time frame\n"
   ]
  }
 ],
 "metadata": {
  "kernelspec": {
   "display_name": "heimdall_py38",
   "language": "python",
   "name": "heimdall_py38"
  },
  "language_info": {
   "codemirror_mode": {
    "name": "ipython",
    "version": 3
   },
   "file_extension": ".py",
   "mimetype": "text/x-python",
   "name": "python",
   "nbconvert_exporter": "python",
   "pygments_lexer": "ipython3",
   "version": "3.8.12"
  }
 },
 "nbformat": 4,
 "nbformat_minor": 2
}
