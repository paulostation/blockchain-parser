{
 "cells": [
  {
   "cell_type": "code",
   "execution_count": 1,
   "metadata": {},
   "outputs": [],
   "source": [
    "import pandas as pd\n",
    "import numpy as np\n",
    "import datetime as dt\n",
    "from web3 import Web3"
   ]
  },
  {
   "cell_type": "code",
   "execution_count": 2,
   "metadata": {},
   "outputs": [
    {
     "name": "stdout",
     "output_type": "stream",
     "text": [
      "True\n"
     ]
    }
   ],
   "source": [
    "ankr_url = 'https://rpc.ankr.com/eth'\n",
    "\n",
    "web3 = Web3(Web3.HTTPProvider(ankr_url))\n",
    "\n",
    "print(web3.isConnected())"
   ]
  },
  {
   "cell_type": "code",
   "execution_count": 3,
   "metadata": {},
   "outputs": [
    {
     "ename": "AttributeError",
     "evalue": "'Eth' object has no attribute 'get'",
     "output_type": "error",
     "traceback": [
      "\u001b[0;31m---------------------------------------------------------------------------\u001b[0m",
      "\u001b[0;31mAttributeError\u001b[0m                            Traceback (most recent call last)",
      "\u001b[0;32m/var/folders/qd/dy__vrxx5ws5khw1yz5bqq480000gn/T/ipykernel_26789/3231570549.py\u001b[0m in \u001b[0;36m<module>\u001b[0;34m\u001b[0m\n\u001b[0;32m----> 1\u001b[0;31m \u001b[0mweb3\u001b[0m\u001b[0;34m.\u001b[0m\u001b[0meth\u001b[0m\u001b[0;34m.\u001b[0m\u001b[0mget\u001b[0m\u001b[0;34m(\u001b[0m\u001b[0;36m12345\u001b[0m\u001b[0;34m)\u001b[0m\u001b[0;34m\u001b[0m\u001b[0;34m\u001b[0m\u001b[0m\n\u001b[0m",
      "\u001b[0;31mAttributeError\u001b[0m: 'Eth' object has no attribute 'get'"
     ]
    }
   ],
   "source": [
    "# web3.eth.get(12345)"
   ]
  },
  {
   "cell_type": "code",
   "execution_count": null,
   "metadata": {},
   "outputs": [],
   "source": [
    "transaction = web3.eth.get_transaction('0x82c09f32d30c75dae94a149100941f71fa1e6b8f1aa11695f92af20164555443')"
   ]
  },
  {
   "cell_type": "code",
   "execution_count": null,
   "metadata": {},
   "outputs": [],
   "source": [
    "# # df = pd.read_csv('/tmp/export-0x1332cb754d445F07ee0a8279D8654fc889536253.csv',index_col=False)\n",
    "# df = pd.read_csv('/tmp/export-0x0c4ece75800273bb516394b8a82b6b180b5f86c4.csv',index_col=False)\n",
    "# print(df.shape)\n",
    "# df.head()"
   ]
  },
  {
   "cell_type": "code",
   "execution_count": null,
   "metadata": {},
   "outputs": [],
   "source": [
    "DATETIME = dt.datetime.now()\n",
    "START_DATE = dt.datetime.strptime('2021-09-08', '%Y-%m-%d')"
   ]
  },
  {
   "cell_type": "code",
   "execution_count": null,
   "metadata": {},
   "outputs": [],
   "source": [
    "# address = '0x1332cb754d445F07ee0a8279D8654fc889536253'\n",
    "# currency = 'BNB'\n",
    "address = '0x0c4ece75800273bb516394b8a82b6b180b5f86c4'\n",
    "currency = 'ETH'\n",
    "\n",
    "\n",
    "input_df_columns = df.columns.tolist()\n",
    "\n",
    "columns = [\n",
    "    'Date', \n",
    "    'Type', \n",
    "    'Buy',\n",
    "    'Currency (Buy)',\n",
    "    'Fiat value (Buy)',\n",
    "    'Sell',\n",
    "    'Currency (Sell)',\n",
    "    'Fiat value (Sell)',\n",
    "    'Fee',\n",
    "    'Currency (Fee)',\n",
    "    'Fiat value (Fee)',\n",
    "    'Exchange',\n",
    "    'Wallet',\n",
    "    'Account',\n",
    "    'Transfer-Code',\n",
    "    'Comment'\n",
    "]"
   ]
  },
  {
   "cell_type": "code",
   "execution_count": null,
   "metadata": {},
   "outputs": [],
   "source": [
    "df.at[0, 'Value_OUT(%s)' % currency]"
   ]
  },
  {
   "cell_type": "code",
   "execution_count": null,
   "metadata": {},
   "outputs": [],
   "source": [
    "df['Type'] = df['To'].map(lambda x: 'Deposit' if x.lower() == address.lower() else 'Withdraw')\n",
    "df['Date'] = df['DateTime']\n",
    "\n",
    "display(df['Type'].value_counts())\n",
    "df.head()"
   ]
  },
  {
   "cell_type": "code",
   "execution_count": null,
   "metadata": {},
   "outputs": [],
   "source": [
    "df = df[\n",
    "    pd.to_datetime(df['Date']) > START_DATE\n",
    "]\n",
    "\n",
    "df.head()"
   ]
  },
  {
   "cell_type": "code",
   "execution_count": null,
   "metadata": {},
   "outputs": [],
   "source": [
    "df['Fee'] = df['TxnFee(%s)' % currency]\n",
    "df['Currency (Fee)'] = '%s' % currency\n",
    "df.head()"
   ]
  },
  {
   "cell_type": "code",
   "execution_count": null,
   "metadata": {},
   "outputs": [],
   "source": [
    "for col in columns:\n",
    "\n",
    "    if col not in df.columns:\n",
    "        df[col] = \"\"\n",
    "\n",
    "for i, row in df.iterrows():\n",
    "    \n",
    "    df.at[i, 'Transfer-Code'] = row['Txhash']\n",
    "    \n",
    "    if row['Type'] == 'Withdraw':\n",
    "        \n",
    "        df.at[i, 'Currency (Sell)'] = '%s' % currency\n",
    "        df.at[i, 'Sell'] = row['Value_OUT(%s)' % currency]\n",
    "    \n",
    "    elif row['Type'] == 'Deposit':\n",
    "        \n",
    "        df.at[i, 'Currency (Buy)'] = '%s' % currency\n",
    "        df.at[i, 'Buy'] = row['Value_IN(%s)' % currency]\n",
    "        \n",
    "    else:\n",
    "        print('HAN')"
   ]
  },
  {
   "cell_type": "code",
   "execution_count": null,
   "metadata": {},
   "outputs": [],
   "source": [
    "out_df = df.drop(columns=input_df_columns, errors=\"ignore\")[columns].sort_values('Date')\n"
   ]
  },
  {
   "cell_type": "code",
   "execution_count": null,
   "metadata": {},
   "outputs": [],
   "source": [
    "out_df['Comment'] = 'Parsed via explorer CSV parser (%s) at %s' % (currency, DATETIME)"
   ]
  },
  {
   "cell_type": "code",
   "execution_count": null,
   "metadata": {},
   "outputs": [],
   "source": [
    "out_df.head(5)"
   ]
  },
  {
   "cell_type": "code",
   "execution_count": null,
   "metadata": {},
   "outputs": [],
   "source": [
    "out_df.to_clipboard(index=False,header=False)"
   ]
  },
  {
   "cell_type": "code",
   "execution_count": null,
   "metadata": {},
   "outputs": [],
   "source": []
  },
  {
   "cell_type": "code",
   "execution_count": null,
   "metadata": {},
   "outputs": [],
   "source": []
  }
 ],
 "metadata": {
  "kernelspec": {
   "display_name": "on-chain-analysis",
   "language": "python",
   "name": "on-chain-analysis"
  },
  "language_info": {
   "codemirror_mode": {
    "name": "ipython",
    "version": 3
   },
   "file_extension": ".py",
   "mimetype": "text/x-python",
   "name": "python",
   "nbconvert_exporter": "python",
   "pygments_lexer": "ipython3",
   "version": "3.8.12"
  }
 },
 "nbformat": 4,
 "nbformat_minor": 2
}
