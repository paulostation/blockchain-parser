{
 "cells": [
  {
   "cell_type": "code",
   "execution_count": 2,
   "metadata": {},
   "outputs": [],
   "source": [
    "import pandas as pd\n",
    "import numpy as np\n",
    "import datetime as dt\n",
    "from web3 import Web3"
   ]
  },
  {
   "cell_type": "code",
   "execution_count": null,
   "metadata": {},
   "outputs": [],
   "source": []
  },
  {
   "cell_type": "code",
   "execution_count": null,
   "metadata": {},
   "outputs": [],
   "source": [
    "# df = pd.read_csv('/tmp/export-0x1332cb754d445F07ee0a8279D8654fc889536253.csv',index_col=False)\n",
    "df = pd.read_csv('/tmp/export-0x0c4ece75800273bb516394b8a82b6b180b5f86c4.csv',index_col=False)\n",
    "print(df.shape)\n",
    "df.head()"
   ]
  },
  {
   "cell_type": "code",
   "execution_count": null,
   "metadata": {},
   "outputs": [],
   "source": [
    "DATETIME = dt.datetime.now()\n",
    "START_DATE = dt.datetime.strptime('2021-09-08', '%Y-%m-%d')"
   ]
  },
  {
   "cell_type": "code",
   "execution_count": null,
   "metadata": {},
   "outputs": [],
   "source": [
    "# address = '0x1332cb754d445F07ee0a8279D8654fc889536253'\n",
    "# currency = 'BNB'\n",
    "address = '0x0c4ece75800273bb516394b8a82b6b180b5f86c4'\n",
    "currency = 'ETH'\n",
    "\n",
    "\n",
    "input_df_columns = df.columns.tolist()\n",
    "\n",
    "columns = [\n",
    "    'Date', \n",
    "    'Type', \n",
    "    'Buy',\n",
    "    'Currency (Buy)',\n",
    "    'Fiat value (Buy)',\n",
    "    'Sell',\n",
    "    'Currency (Sell)',\n",
    "    'Fiat value (Sell)',\n",
    "    'Fee',\n",
    "    'Currency (Fee)',\n",
    "    'Fiat value (Fee)',\n",
    "    'Exchange',\n",
    "    'Wallet',\n",
    "    'Account',\n",
    "    'Transfer-Code',\n",
    "    'Comment'\n",
    "]"
   ]
  },
  {
   "cell_type": "code",
   "execution_count": null,
   "metadata": {},
   "outputs": [],
   "source": [
    "df.at[0, 'Value_OUT(%s)' % currency]"
   ]
  },
  {
   "cell_type": "code",
   "execution_count": null,
   "metadata": {},
   "outputs": [],
   "source": [
    "df['Type'] = df['To'].map(lambda x: 'Deposit' if x.lower() == address.lower() else 'Withdraw')\n",
    "df['Date'] = df['DateTime']\n",
    "\n",
    "display(df['Type'].value_counts())\n",
    "df.head()"
   ]
  },
  {
   "cell_type": "code",
   "execution_count": null,
   "metadata": {},
   "outputs": [],
   "source": [
    "df = df[\n",
    "    pd.to_datetime(df['Date']) > START_DATE\n",
    "]\n",
    "\n",
    "df.head()"
   ]
  },
  {
   "cell_type": "code",
   "execution_count": null,
   "metadata": {},
   "outputs": [],
   "source": [
    "df['Fee'] = df['TxnFee(%s)' % currency]\n",
    "df['Currency (Fee)'] = '%s' % currency\n",
    "df.head()"
   ]
  },
  {
   "cell_type": "code",
   "execution_count": null,
   "metadata": {},
   "outputs": [],
   "source": [
    "for col in columns:\n",
    "\n",
    "    if col not in df.columns:\n",
    "        df[col] = \"\"\n",
    "\n",
    "for i, row in df.iterrows():\n",
    "    \n",
    "    df.at[i, 'Transfer-Code'] = row['Txhash']\n",
    "    \n",
    "    if row['Type'] == 'Withdraw':\n",
    "        \n",
    "        df.at[i, 'Currency (Sell)'] = '%s' % currency\n",
    "        df.at[i, 'Sell'] = row['Value_OUT(%s)' % currency]\n",
    "    \n",
    "    elif row['Type'] == 'Deposit':\n",
    "        \n",
    "        df.at[i, 'Currency (Buy)'] = '%s' % currency\n",
    "        df.at[i, 'Buy'] = row['Value_IN(%s)' % currency]\n",
    "        \n",
    "    else:\n",
    "        print('HAN')"
   ]
  },
  {
   "cell_type": "code",
   "execution_count": null,
   "metadata": {},
   "outputs": [],
   "source": [
    "out_df = df.drop(columns=input_df_columns, errors=\"ignore\")[columns].sort_values('Date')\n"
   ]
  },
  {
   "cell_type": "code",
   "execution_count": null,
   "metadata": {},
   "outputs": [],
   "source": [
    "out_df['Comment'] = 'Parsed via explorer CSV parser (%s) at %s' % (currency, DATETIME)"
   ]
  },
  {
   "cell_type": "code",
   "execution_count": null,
   "metadata": {},
   "outputs": [],
   "source": [
    "out_df.head(5)"
   ]
  },
  {
   "cell_type": "code",
   "execution_count": null,
   "metadata": {},
   "outputs": [],
   "source": [
    "out_df.to_clipboard(index=False,header=False)"
   ]
  },
  {
   "cell_type": "code",
   "execution_count": null,
   "metadata": {},
   "outputs": [],
   "source": []
  },
  {
   "cell_type": "code",
   "execution_count": null,
   "metadata": {},
   "outputs": [],
   "source": []
  }
 ],
 "metadata": {
  "kernelspec": {
   "display_name": "on-chain-analysis",
   "language": "python",
   "name": "on-chain-analysis"
  },
  "language_info": {
   "codemirror_mode": {
    "name": "ipython",
    "version": 3
   },
   "file_extension": ".py",
   "mimetype": "text/x-python",
   "name": "python",
   "nbconvert_exporter": "python",
   "pygments_lexer": "ipython3",
   "version": "3.8.12"
  }
 },
 "nbformat": 4,
 "nbformat_minor": 2
}
